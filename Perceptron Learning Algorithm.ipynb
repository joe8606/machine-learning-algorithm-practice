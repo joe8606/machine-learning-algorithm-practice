{
 "cells": [
  {
   "cell_type": "code",
   "execution_count": 94,
   "id": "4862e12e",
   "metadata": {},
   "outputs": [],
   "source": [
    "from sklearn import datasets\n",
    "import pandas as pd\n",
    "import numpy as np\n",
    "import random\n",
    "import seaborn as sns"
   ]
  },
  {
   "cell_type": "code",
   "execution_count": 10,
   "id": "eeb4b85b",
   "metadata": {},
   "outputs": [],
   "source": [
    "# Data pre-processing\n",
    "data_test = pd.read_csv('C:/Users/Abby/Downloads/hw1_18_test.dat.txt',sep=\" \",header=None)\n",
    "data_train = pd.read_csv('C:/Users/Abby/Downloads/hw1_18_train.dat.txt',sep=\" \",header=None)\n",
    "\n",
    "data_test.columns = ['x1','x2','x3','x4','y']\n",
    "data_train.columns = ['x1','x2','x3','x4','y']"
   ]
  },
  {
   "cell_type": "code",
   "execution_count": 20,
   "id": "302bd985",
   "metadata": {},
   "outputs": [],
   "source": [
    "# Add intercept\n",
    "data_test['x0'] = 1\n",
    "data_train['x0'] = 1"
   ]
  },
  {
   "cell_type": "code",
   "execution_count": 51,
   "id": "fe88d52d",
   "metadata": {},
   "outputs": [],
   "source": [
    "def sign(a):\n",
    "    if a > 0:\n",
    "        return 1\n",
    "    else:\n",
    "        return -1"
   ]
  },
  {
   "cell_type": "code",
   "execution_count": 108,
   "id": "46b9ee5f",
   "metadata": {},
   "outputs": [],
   "source": [
    "# Set iteration times\n",
    "times = 10\n",
    "error_test = []\n",
    "\n",
    "for j in range(times):\n",
    "    \n",
    "    # Set iteration times\n",
    "    n = 500\n",
    "    error_list = []\n",
    "\n",
    "    # Shuffle\n",
    "    data_train = data_train.sample(frac=1).reset_index(drop = True)\n",
    "    \n",
    "    # Randomly pick one x as initial weight\n",
    "    # 1D array will become 2D array\n",
    "    w = np.array(data_train[['x0','x1','x2','x3','x4']].iloc[0])[np.newaxis]\n",
    "    \n",
    "    # Standardize\n",
    "    w[0] = w[0]/sum(w[0]**2)**0.5\n",
    "\n",
    "    for i in range(n):\n",
    "        y_hat = np.dot(data_train[['x0','x1','x2','x3','x4']],w.transpose())\n",
    "        data_train['y_hat'] = y_hat\n",
    "        data_train['y_hat'] = data_train['y_hat'].apply(lambda x:sign(x))\n",
    "        data_train_error = data_train[data_train['y'] != data_train['y_hat']]\n",
    "        error_list.append(len(data_train_error)/len(data_train))\n",
    "        \n",
    "        # Pick up one error\n",
    "        error = data_train_error.iloc[0]\n",
    "        error=np.array(error[['x0','x1','x2','x3','x4']])\n",
    "        error = error/sum(error**2)**0.5\n",
    "        y = data_train_error['y'].iloc[0]\n",
    "        w[0] += error*y\n",
    "    \n",
    "    y_hat = np.dot(data_test[['x0','x1','x2','x3','x4']],w.transpose())\n",
    "    data_test['y_hat'] = y_hat\n",
    "    data_test['y_hat'] = data_test['y_hat'].apply(lambda x:sign(x))\n",
    "    error_rate = len(data_test[data_test['y_hat'] != data_test['y']])/ len(data_test)\n",
    "    error_test.append(error_rate)"
   ]
  },
  {
   "cell_type": "code",
   "execution_count": 106,
   "id": "0977a2b0",
   "metadata": {},
   "outputs": [
    {
     "data": {
      "text/plain": [
       "0.33340000000000003"
      ]
     },
     "execution_count": 106,
     "metadata": {},
     "output_type": "execute_result"
    }
   ],
   "source": [
    "sum(error_test)/len(error_test)"
   ]
  },
  {
   "cell_type": "code",
   "execution_count": 96,
   "id": "d06985da",
   "metadata": {},
   "outputs": [],
   "source": [
    "forplot = {'Error':error_list,\n",
    "           'Iteration':list(range(0,n))}\n",
    "\n",
    "forplot = pd.DataFrame(forplot)"
   ]
  },
  {
   "cell_type": "code",
   "execution_count": 98,
   "id": "52b3d869",
   "metadata": {},
   "outputs": [
    {
     "data": {
      "text/plain": [
       "<AxesSubplot:xlabel='Iteration', ylabel='Error'>"
      ]
     },
     "execution_count": 98,
     "metadata": {},
     "output_type": "execute_result"
    },
    {
     "data": {
      "image/png": "[encoded data removed]",
      "text/plain": [
       "<Figure size 432x288 with 1 Axes>"
      ]
     },
     "metadata": {
      "needs_background": "light"
     },
     "output_type": "display_data"
    }
   ],
   "source": [
    "sns.lineplot(data = forplot, x = 'Iteration', y = 'Error')"
   ]
  },
  {
   "cell_type": "code",
   "execution_count": 100,
   "id": "c646f0dc",
   "metadata": {},
   "outputs": [],
   "source": [
    "# Error for testing data\n",
    "y_hat = np.dot(data_test[['x0','x1','x2','x3','x4']],w.transpose())\n",
    "data_test['y_hat'] = y_hat\n",
    "data_test['y_hat'] = data_test['y_hat'].apply(lambda x:sign(x))"
   ]
  },
  {
   "cell_type": "code",
   "execution_count": 101,
   "id": "7acba0b7",
   "metadata": {},
   "outputs": [
    {
     "data": {
      "text/plain": [
       "0.296"
      ]
     },
     "execution_count": 101,
     "metadata": {},
     "output_type": "execute_result"
    }
   ],
   "source": [
    "error_rate = len(data_test[data_test['y_hat'] != data_test['y']])/ len(data_test)\n",
    "error_rate"
   ]
  }
 ],
 "metadata": {
  "kernelspec": {
   "display_name": "Python 3 (ipykernel)",
   "language": "python",
   "name": "python3"
  },
  "language_info": {
   "codemirror_mode": {
    "name": "ipython",
    "version": 3
   },
   "file_extension": ".py",
   "mimetype": "text/x-python",
   "name": "python",
   "nbconvert_exporter": "python",
   "pygments_lexer": "ipython3",
   "version": "3.9.13"
  }
 },
 "nbformat": 4,
 "nbformat_minor": 5
}
